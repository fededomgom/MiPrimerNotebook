{
 "cells": [
  {
   "cell_type": "markdown",
   "metadata": {},
   "source": [
    "# U.S. Medical Insurance Costs\n"
   ]
  },
  {
   "cell_type": "code",
   "execution_count": null,
   "metadata": {},
   "outputs": [],
   "source": [
    "import csv"
   ]
  },
  {
   "cell_type": "markdown",
   "metadata": {},
   "source": [
    "<blockquote><div style=\"background-color:#DCDCDC; color:#000000; font-style: normal; font-family: Georgia;\">\n",
    "Hice listas vacias para meterles data\n",
    "</div></blockquote>"
   ]
  },
  {
   "cell_type": "code",
   "execution_count": null,
   "metadata": {},
   "outputs": [],
   "source": [
    "age = []\n",
    "sex = []\n",
    "bmi = []\n",
    "children = []\n",
    "smoker = []\n",
    "region = []\n",
    "charges = []"
   ]
  },
  {
   "cell_type": "markdown",
   "metadata": {},
   "source": [
    "<blockquote><div style=\"background-color:#DCDCDC; color:#000000; font-style: normal; font-family: Georgia;\">\n",
    "Esta función guarda la data del csv en listas\n",
    "</div></blockquote>"
   ]
  },
  {
   "cell_type": "code",
   "execution_count": null,
   "metadata": {},
   "outputs": [],
   "source": [
    "def cargar_data_en_listas(lst, csv_file, column_name):\n",
    "    # hasta donde yo se, abre el csv\n",
    "    with open(csv_file) as csv_info:\n",
    "        # lee la data del csv\n",
    "        csv_dict = csv.DictReader(csv_info)\n",
    "        # loopea la data dentro del csv \n",
    "        for row in csv_dict:\n",
    "            # agrega la data de cada fila a una lista mepa\n",
    "            lst.append(row[column_name])\n",
    "        # te devuelve la lista\n",
    "        return lst"
   ]
  },
  {
   "cell_type": "markdown",
   "metadata": {},
   "source": [
    "<blockquote><div style=\"background-color:#DCDCDC; color:#000000; font-style: normal; font-family: Georgia;\">\n",
    "Le cargué data a las listas\n",
    "</div></blockquote>"
   ]
  },
  {
   "cell_type": "code",
   "execution_count": null,
   "metadata": {},
   "outputs": [],
   "source": [
    "cargar_data_en_listas(age, \"insurance.csv\", \"age\")\n",
    "cargar_data_en_listas(sex, \"insurance.csv\", \"sex\")\n",
    "cargar_data_en_listas(bmi, \"insurance.csv\", \"bmi\")\n",
    "cargar_data_en_listas(children, \"insurance.csv\", \"age\")\n",
    "cargar_data_en_listas(smoker, \"insurance.csv\", \"smoker\")\n",
    "cargar_data_en_listas(region, \"insurance.csv\", \"region\")\n",
    "cargar_data_en_listas(charges, \"insurance.csv\", \"charges\")"
   ]
  },
  {
   "cell_type": "markdown",
   "metadata": {},
   "source": [
    "<blockquote><div style=\"background-color:#DCDCDC; color:#000000; font-style: normal; font-family: Georgia;\">\n",
    "Hice una class con todas las funciones habidas y por haber\n",
    "</div></blockquote>"
   ]
  },
  {
   "cell_type": "code",
   "execution_count": null,
   "metadata": {},
   "outputs": [],
   "source": [
    "class infoCopada:\n",
    "    def __init__(self, age_patients, sex_patients, bmi_patients, children_patients, smokers_patients, region_patients, charges_patients):\n",
    "        self.age_patients = age_patients\n",
    "        self.sex_patients = sex_patients\n",
    "        self.bmi_patients = bmi_patients\n",
    "        self.children_patients = children_patients\n",
    "        self.smokers_patients = smokers_patients\n",
    "        self.region_patients = region_patients\n",
    "        self.charges_patients = charges_patients\n",
    "    \n",
    "    def average_age_patients(self, age_patients):\n",
    "        total = 0\n",
    "        for i in self.age_patients:\n",
    "            total += int(i)\n",
    "        print(\"The average age of the patients is \" + str(round(int(total)/len(self.age_patients))) + \".\")\n",
    "    def sex_counter(self, sex_patients):\n",
    "        male = 0\n",
    "        female = 0\n",
    "        for i in self.sex_patients:\n",
    "            if i == \"male\":\n",
    "                male += 1\n",
    "            elif i == \"female\":\n",
    "                female += 1\n",
    "        print(\"The amount of males is: \" + str(male))\n",
    "        print(\"The amount of females is: \" + str(female))\n",
    "    def contador_de_regiones(self, region_patients):\n",
    "        southwest = 0\n",
    "        southeast = 0 \n",
    "        northwest = 0\n",
    "        northeast = 0\n",
    "        for region in self.region_patients:\n",
    "            if region == \"southwest\":\n",
    "                southwest += 1\n",
    "            elif region == \"southeast\":\n",
    "                southeast += 1\n",
    "            elif region == \"northwest\":\n",
    "                northwest += 1\n",
    "            elif region == \"northeast\":\n",
    "                northeast += 1\n",
    "        print(\"The amount of people living in the southwest is {sw}, in the southeast is {se}, in the northwest is {nw}, and in the northeast is {ne}.\".format(sw=str(southwest), se=str(southeast), nw=str(northwest), ne=str(northeast)))\n",
    "    def crear_diccionario(self):\n",
    "        self.patients_dictionary = {}\n",
    "        self.patients_dictionary[\"age\"] = [int(age) for age in self.age_patients]\n",
    "        self.patients_dictionary[\"sex\"] = self.sex_patients\n",
    "        self.patients_dictionary[\"bmi\"] = self.bmi_patients\n",
    "        self.patients_dictionary[\"children\"] = self.children_patients\n",
    "        self.patients_dictionary[\"smoker\"] = self.smokers_patients\n",
    "        self.patients_dictionary[\"regions\"] = self.region_patients\n",
    "        self.patients_dictionary[\"charges\"] = self.charges_patients\n",
    "        return self.patients_dictionary"
   ]
  },
  {
   "cell_type": "markdown",
   "metadata": {},
   "source": [
    "<blockquote><div style=\"background-color:#DCDCDC; color:#000000; font-style: normal; font-family: Georgia;\">\n",
    "Hice una instance de toda mi class requete copada\n",
    "</div></blockquote>"
   ]
  },
  {
   "cell_type": "code",
   "execution_count": null,
   "metadata": {},
   "outputs": [],
   "source": [
    "info_copada = infoCopada(age, sex, bmi, children, smoker, region, charges)"
   ]
  },
  {
   "cell_type": "markdown",
   "metadata": {},
   "source": [
    "<blockquote><div style=\"background-color:#DCDCDC; color:#000000; font-style: normal; font-family: Georgia;\">\n",
    "Usé todas mis funciones requete copadas\n",
    "</div></blockquote>"
   ]
  },
  {
   "cell_type": "code",
   "execution_count": null,
   "metadata": {},
   "outputs": [],
   "source": [
    "info_copada.average_age_patients(age)"
   ]
  },
  {
   "cell_type": "code",
   "execution_count": null,
   "metadata": {},
   "outputs": [],
   "source": [
    "info_copada.sex_counter(sex)"
   ]
  },
  {
   "cell_type": "code",
   "execution_count": null,
   "metadata": {},
   "outputs": [],
   "source": [
    "info_copada.contador_de_regiones(region)"
   ]
  },
  {
   "cell_type": "code",
   "execution_count": null,
   "metadata": {},
   "outputs": [],
   "source": [
    "info_copada.crear_diccionario()"
   ]
  }
 ],
 "metadata": {
  "kernelspec": {
   "display_name": "Python 3",
   "language": "python",
   "name": "python3"
  },
  "language_info": {
   "codemirror_mode": {
    "name": "ipython",
    "version": 3
   },
   "file_extension": ".py",
   "mimetype": "text/x-python",
   "name": "python",
   "nbconvert_exporter": "python",
   "pygments_lexer": "ipython3",
   "version": "3.8.6"
  }
 },
 "nbformat": 4,
 "nbformat_minor": 4
}
